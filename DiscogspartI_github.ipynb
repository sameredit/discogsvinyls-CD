{
  "cells": [
    {
      "cell_type": "markdown",
      "metadata": {
        "id": "view-in-github",
        "colab_type": "text"
      },
      "source": [
        "<a href=\"https://colab.research.google.com/github/sameredit/discogsvinyls-CD/blob/main/DiscogspartI_github.ipynb\" target=\"_parent\"><img src=\"https://colab.research.google.com/assets/colab-badge.svg\" alt=\"Open In Colab\"/></a>"
      ]
    },
    {
      "cell_type": "markdown",
      "metadata": {
        "id": "N5F0XJxbgCkY"
      },
      "source": [
        "## Title\n",
        "Trend of vinyl and CD prediction\n",
        "\n",
        "\n",
        "\n",
        "### By:\n",
        "Samer Ahmad Diaz\n",
        "\n",
        "### Date:\n",
        "2024-11-28\n",
        "\n",
        "### Description:\n",
        "\n",
        "In order to figure out hte market of turnatables and CDs, looking into the trand vinyl and CD sales is an idea.\n",
        "- How may vinyls and CD were released per yeard from 1995 to 2000\n",
        "- Is there a correlation between vinyl records and CD.\n",
        "- What is the forecast for the vinyl and CD released through 2025\n",
        "\n"
      ]
    },
    {
      "cell_type": "markdown",
      "metadata": {
        "id": "wLLt2DU4gCkY"
      },
      "source": [
        "## 📚 Import  libraries"
      ]
    },
    {
      "cell_type": "code",
      "execution_count": null,
      "metadata": {
        "id": "NHrRVABNgCkZ"
      },
      "outputs": [],
      "source": [
        "import numpy as np\n",
        "import pandas as pd\n",
        "import seaborn as sns\n",
        "import matplotlib.pyplot as plt\n",
        "import missingno as msno\n",
        "import statsmodels.formula.api as smf\n",
        "from scipy import stats\n",
        "from scipy.stats import linregress"
      ]
    },
    {
      "cell_type": "markdown",
      "source": [],
      "metadata": {
        "id": "jQSkwnu5QmD7"
      }
    },
    {
      "cell_type": "markdown",
      "metadata": {
        "id": "PnPl1wOrgCkZ"
      },
      "source": [
        "## 💾 Load data"
      ]
    },
    {
      "cell_type": "code",
      "execution_count": null,
      "metadata": {
        "colab": {
          "base_uri": "https://localhost:8080/",
          "height": 206
        },
        "id": "Vp5-xOzEgCkZ",
        "outputId": "9e91d6a2-b0a9-48ae-882e-5b72e04e8ddd"
      },
      "outputs": [
        {
          "output_type": "execute_result",
          "data": {
            "text/plain": [
              "   release_id country    year       genre        style format\n",
              "0           1  Sweden  1999.0  Electronic   Deep House  Vinyl\n",
              "1           2  Sweden  1998.0  Electronic  Broken Beat  Vinyl\n",
              "2           2  Sweden  1998.0  Electronic       Techno  Vinyl\n",
              "3           2  Sweden  1998.0  Electronic   Tech House  Vinyl\n",
              "4           3      US  1999.0  Electronic       Techno     CD"
            ],
            "text/html": [
              "\n",
              "  <div id=\"df-3b3f163c-a3cf-4892-96b9-0dcb33423d17\" class=\"colab-df-container\">\n",
              "    <div>\n",
              "<style scoped>\n",
              "    .dataframe tbody tr th:only-of-type {\n",
              "        vertical-align: middle;\n",
              "    }\n",
              "\n",
              "    .dataframe tbody tr th {\n",
              "        vertical-align: top;\n",
              "    }\n",
              "\n",
              "    .dataframe thead th {\n",
              "        text-align: right;\n",
              "    }\n",
              "</style>\n",
              "<table border=\"1\" class=\"dataframe\">\n",
              "  <thead>\n",
              "    <tr style=\"text-align: right;\">\n",
              "      <th></th>\n",
              "      <th>release_id</th>\n",
              "      <th>country</th>\n",
              "      <th>year</th>\n",
              "      <th>genre</th>\n",
              "      <th>style</th>\n",
              "      <th>format</th>\n",
              "    </tr>\n",
              "  </thead>\n",
              "  <tbody>\n",
              "    <tr>\n",
              "      <th>0</th>\n",
              "      <td>1</td>\n",
              "      <td>Sweden</td>\n",
              "      <td>1999.0</td>\n",
              "      <td>Electronic</td>\n",
              "      <td>Deep House</td>\n",
              "      <td>Vinyl</td>\n",
              "    </tr>\n",
              "    <tr>\n",
              "      <th>1</th>\n",
              "      <td>2</td>\n",
              "      <td>Sweden</td>\n",
              "      <td>1998.0</td>\n",
              "      <td>Electronic</td>\n",
              "      <td>Broken Beat</td>\n",
              "      <td>Vinyl</td>\n",
              "    </tr>\n",
              "    <tr>\n",
              "      <th>2</th>\n",
              "      <td>2</td>\n",
              "      <td>Sweden</td>\n",
              "      <td>1998.0</td>\n",
              "      <td>Electronic</td>\n",
              "      <td>Techno</td>\n",
              "      <td>Vinyl</td>\n",
              "    </tr>\n",
              "    <tr>\n",
              "      <th>3</th>\n",
              "      <td>2</td>\n",
              "      <td>Sweden</td>\n",
              "      <td>1998.0</td>\n",
              "      <td>Electronic</td>\n",
              "      <td>Tech House</td>\n",
              "      <td>Vinyl</td>\n",
              "    </tr>\n",
              "    <tr>\n",
              "      <th>4</th>\n",
              "      <td>3</td>\n",
              "      <td>US</td>\n",
              "      <td>1999.0</td>\n",
              "      <td>Electronic</td>\n",
              "      <td>Techno</td>\n",
              "      <td>CD</td>\n",
              "    </tr>\n",
              "  </tbody>\n",
              "</table>\n",
              "</div>\n",
              "    <div class=\"colab-df-buttons\">\n",
              "\n",
              "  <div class=\"colab-df-container\">\n",
              "    <button class=\"colab-df-convert\" onclick=\"convertToInteractive('df-3b3f163c-a3cf-4892-96b9-0dcb33423d17')\"\n",
              "            title=\"Convert this dataframe to an interactive table.\"\n",
              "            style=\"display:none;\">\n",
              "\n",
              "  <svg xmlns=\"http://www.w3.org/2000/svg\" height=\"24px\" viewBox=\"0 -960 960 960\">\n",
              "    <path d=\"M120-120v-720h720v720H120Zm60-500h600v-160H180v160Zm220 220h160v-160H400v160Zm0 220h160v-160H400v160ZM180-400h160v-160H180v160Zm440 0h160v-160H620v160ZM180-180h160v-160H180v160Zm440 0h160v-160H620v160Z\"/>\n",
              "  </svg>\n",
              "    </button>\n",
              "\n",
              "  <style>\n",
              "    .colab-df-container {\n",
              "      display:flex;\n",
              "      gap: 12px;\n",
              "    }\n",
              "\n",
              "    .colab-df-convert {\n",
              "      background-color: #E8F0FE;\n",
              "      border: none;\n",
              "      border-radius: 50%;\n",
              "      cursor: pointer;\n",
              "      display: none;\n",
              "      fill: #1967D2;\n",
              "      height: 32px;\n",
              "      padding: 0 0 0 0;\n",
              "      width: 32px;\n",
              "    }\n",
              "\n",
              "    .colab-df-convert:hover {\n",
              "      background-color: #E2EBFA;\n",
              "      box-shadow: 0px 1px 2px rgba(60, 64, 67, 0.3), 0px 1px 3px 1px rgba(60, 64, 67, 0.15);\n",
              "      fill: #174EA6;\n",
              "    }\n",
              "\n",
              "    .colab-df-buttons div {\n",
              "      margin-bottom: 4px;\n",
              "    }\n",
              "\n",
              "    [theme=dark] .colab-df-convert {\n",
              "      background-color: #3B4455;\n",
              "      fill: #D2E3FC;\n",
              "    }\n",
              "\n",
              "    [theme=dark] .colab-df-convert:hover {\n",
              "      background-color: #434B5C;\n",
              "      box-shadow: 0px 1px 3px 1px rgba(0, 0, 0, 0.15);\n",
              "      filter: drop-shadow(0px 1px 2px rgba(0, 0, 0, 0.3));\n",
              "      fill: #FFFFFF;\n",
              "    }\n",
              "  </style>\n",
              "\n",
              "    <script>\n",
              "      const buttonEl =\n",
              "        document.querySelector('#df-3b3f163c-a3cf-4892-96b9-0dcb33423d17 button.colab-df-convert');\n",
              "      buttonEl.style.display =\n",
              "        google.colab.kernel.accessAllowed ? 'block' : 'none';\n",
              "\n",
              "      async function convertToInteractive(key) {\n",
              "        const element = document.querySelector('#df-3b3f163c-a3cf-4892-96b9-0dcb33423d17');\n",
              "        const dataTable =\n",
              "          await google.colab.kernel.invokeFunction('convertToInteractive',\n",
              "                                                    [key], {});\n",
              "        if (!dataTable) return;\n",
              "\n",
              "        const docLinkHtml = 'Like what you see? Visit the ' +\n",
              "          '<a target=\"_blank\" href=https://colab.research.google.com/notebooks/data_table.ipynb>data table notebook</a>'\n",
              "          + ' to learn more about interactive tables.';\n",
              "        element.innerHTML = '';\n",
              "        dataTable['output_type'] = 'display_data';\n",
              "        await google.colab.output.renderOutput(dataTable, element);\n",
              "        const docLink = document.createElement('div');\n",
              "        docLink.innerHTML = docLinkHtml;\n",
              "        element.appendChild(docLink);\n",
              "      }\n",
              "    </script>\n",
              "  </div>\n",
              "\n",
              "\n",
              "<div id=\"df-f1ba2cae-8cc4-4b36-982d-ecd52b69036f\">\n",
              "  <button class=\"colab-df-quickchart\" onclick=\"quickchart('df-f1ba2cae-8cc4-4b36-982d-ecd52b69036f')\"\n",
              "            title=\"Suggest charts\"\n",
              "            style=\"display:none;\">\n",
              "\n",
              "<svg xmlns=\"http://www.w3.org/2000/svg\" height=\"24px\"viewBox=\"0 0 24 24\"\n",
              "     width=\"24px\">\n",
              "    <g>\n",
              "        <path d=\"M19 3H5c-1.1 0-2 .9-2 2v14c0 1.1.9 2 2 2h14c1.1 0 2-.9 2-2V5c0-1.1-.9-2-2-2zM9 17H7v-7h2v7zm4 0h-2V7h2v10zm4 0h-2v-4h2v4z\"/>\n",
              "    </g>\n",
              "</svg>\n",
              "  </button>\n",
              "\n",
              "<style>\n",
              "  .colab-df-quickchart {\n",
              "      --bg-color: #E8F0FE;\n",
              "      --fill-color: #1967D2;\n",
              "      --hover-bg-color: #E2EBFA;\n",
              "      --hover-fill-color: #174EA6;\n",
              "      --disabled-fill-color: #AAA;\n",
              "      --disabled-bg-color: #DDD;\n",
              "  }\n",
              "\n",
              "  [theme=dark] .colab-df-quickchart {\n",
              "      --bg-color: #3B4455;\n",
              "      --fill-color: #D2E3FC;\n",
              "      --hover-bg-color: #434B5C;\n",
              "      --hover-fill-color: #FFFFFF;\n",
              "      --disabled-bg-color: #3B4455;\n",
              "      --disabled-fill-color: #666;\n",
              "  }\n",
              "\n",
              "  .colab-df-quickchart {\n",
              "    background-color: var(--bg-color);\n",
              "    border: none;\n",
              "    border-radius: 50%;\n",
              "    cursor: pointer;\n",
              "    display: none;\n",
              "    fill: var(--fill-color);\n",
              "    height: 32px;\n",
              "    padding: 0;\n",
              "    width: 32px;\n",
              "  }\n",
              "\n",
              "  .colab-df-quickchart:hover {\n",
              "    background-color: var(--hover-bg-color);\n",
              "    box-shadow: 0 1px 2px rgba(60, 64, 67, 0.3), 0 1px 3px 1px rgba(60, 64, 67, 0.15);\n",
              "    fill: var(--button-hover-fill-color);\n",
              "  }\n",
              "\n",
              "  .colab-df-quickchart-complete:disabled,\n",
              "  .colab-df-quickchart-complete:disabled:hover {\n",
              "    background-color: var(--disabled-bg-color);\n",
              "    fill: var(--disabled-fill-color);\n",
              "    box-shadow: none;\n",
              "  }\n",
              "\n",
              "  .colab-df-spinner {\n",
              "    border: 2px solid var(--fill-color);\n",
              "    border-color: transparent;\n",
              "    border-bottom-color: var(--fill-color);\n",
              "    animation:\n",
              "      spin 1s steps(1) infinite;\n",
              "  }\n",
              "\n",
              "  @keyframes spin {\n",
              "    0% {\n",
              "      border-color: transparent;\n",
              "      border-bottom-color: var(--fill-color);\n",
              "      border-left-color: var(--fill-color);\n",
              "    }\n",
              "    20% {\n",
              "      border-color: transparent;\n",
              "      border-left-color: var(--fill-color);\n",
              "      border-top-color: var(--fill-color);\n",
              "    }\n",
              "    30% {\n",
              "      border-color: transparent;\n",
              "      border-left-color: var(--fill-color);\n",
              "      border-top-color: var(--fill-color);\n",
              "      border-right-color: var(--fill-color);\n",
              "    }\n",
              "    40% {\n",
              "      border-color: transparent;\n",
              "      border-right-color: var(--fill-color);\n",
              "      border-top-color: var(--fill-color);\n",
              "    }\n",
              "    60% {\n",
              "      border-color: transparent;\n",
              "      border-right-color: var(--fill-color);\n",
              "    }\n",
              "    80% {\n",
              "      border-color: transparent;\n",
              "      border-right-color: var(--fill-color);\n",
              "      border-bottom-color: var(--fill-color);\n",
              "    }\n",
              "    90% {\n",
              "      border-color: transparent;\n",
              "      border-bottom-color: var(--fill-color);\n",
              "    }\n",
              "  }\n",
              "</style>\n",
              "\n",
              "  <script>\n",
              "    async function quickchart(key) {\n",
              "      const quickchartButtonEl =\n",
              "        document.querySelector('#' + key + ' button');\n",
              "      quickchartButtonEl.disabled = true;  // To prevent multiple clicks.\n",
              "      quickchartButtonEl.classList.add('colab-df-spinner');\n",
              "      try {\n",
              "        const charts = await google.colab.kernel.invokeFunction(\n",
              "            'suggestCharts', [key], {});\n",
              "      } catch (error) {\n",
              "        console.error('Error during call to suggestCharts:', error);\n",
              "      }\n",
              "      quickchartButtonEl.classList.remove('colab-df-spinner');\n",
              "      quickchartButtonEl.classList.add('colab-df-quickchart-complete');\n",
              "    }\n",
              "    (() => {\n",
              "      let quickchartButtonEl =\n",
              "        document.querySelector('#df-f1ba2cae-8cc4-4b36-982d-ecd52b69036f button');\n",
              "      quickchartButtonEl.style.display =\n",
              "        google.colab.kernel.accessAllowed ? 'block' : 'none';\n",
              "    })();\n",
              "  </script>\n",
              "</div>\n",
              "\n",
              "    </div>\n",
              "  </div>\n"
            ],
            "application/vnd.google.colaboratory.intrinsic+json": {
              "type": "dataframe",
              "variable_name": "df"
            }
          },
          "metadata": {},
          "execution_count": 3
        }
      ],
      "source": [
        "df=pd.read_csv('/content/release_data_styles.csv')\n",
        "df.head()"
      ]
    },
    {
      "cell_type": "markdown",
      "metadata": {
        "id": "PydvIPtU31cV"
      },
      "source": [
        "## Exploratory Data Analysis"
      ]
    },
    {
      "cell_type": "code",
      "execution_count": null,
      "metadata": {
        "colab": {
          "base_uri": "https://localhost:8080/"
        },
        "id": "pbiGOpb84El1",
        "outputId": "a0640782-43aa-4f7a-f592-f429f6751cc1"
      },
      "outputs": [
        {
          "output_type": "stream",
          "name": "stdout",
          "text": [
            "<class 'pandas.core.frame.DataFrame'>\n",
            "RangeIndex: 31257071 entries, 0 to 31257070\n",
            "Data columns (total 6 columns):\n",
            " #   Column      Dtype  \n",
            "---  ------      -----  \n",
            " 0   release_id  int64  \n",
            " 1   country     object \n",
            " 2   year        float64\n",
            " 3   genre       object \n",
            " 4   style       object \n",
            " 5   format      object \n",
            "dtypes: float64(1), int64(1), object(4)\n",
            "memory usage: 1.4+ GB\n"
          ]
        }
      ],
      "source": [
        "df.info()"
      ]
    },
    {
      "cell_type": "code",
      "execution_count": null,
      "metadata": {
        "colab": {
          "base_uri": "https://localhost:8080/",
          "height": 490
        },
        "id": "S1CvY3Pp4Ehs",
        "outputId": "f6680125-1749-4210-b913-1022ab983672"
      },
      "outputs": [
        {
          "output_type": "execute_result",
          "data": {
            "text/plain": [
              "release_id\n",
              "2779966     2912\n",
              "15112786    2048\n",
              "3331541     2016\n",
              "11391474    2016\n",
              "11207632    1760\n",
              "            ... \n",
              "7105789        1\n",
              "7105787        1\n",
              "7105785        1\n",
              "7105784        1\n",
              "7660640        1\n",
              "Name: count, Length: 12867980, dtype: int64"
            ],
            "text/html": [
              "<div>\n",
              "<style scoped>\n",
              "    .dataframe tbody tr th:only-of-type {\n",
              "        vertical-align: middle;\n",
              "    }\n",
              "\n",
              "    .dataframe tbody tr th {\n",
              "        vertical-align: top;\n",
              "    }\n",
              "\n",
              "    .dataframe thead th {\n",
              "        text-align: right;\n",
              "    }\n",
              "</style>\n",
              "<table border=\"1\" class=\"dataframe\">\n",
              "  <thead>\n",
              "    <tr style=\"text-align: right;\">\n",
              "      <th></th>\n",
              "      <th>count</th>\n",
              "    </tr>\n",
              "    <tr>\n",
              "      <th>release_id</th>\n",
              "      <th></th>\n",
              "    </tr>\n",
              "  </thead>\n",
              "  <tbody>\n",
              "    <tr>\n",
              "      <th>2779966</th>\n",
              "      <td>2912</td>\n",
              "    </tr>\n",
              "    <tr>\n",
              "      <th>15112786</th>\n",
              "      <td>2048</td>\n",
              "    </tr>\n",
              "    <tr>\n",
              "      <th>3331541</th>\n",
              "      <td>2016</td>\n",
              "    </tr>\n",
              "    <tr>\n",
              "      <th>11391474</th>\n",
              "      <td>2016</td>\n",
              "    </tr>\n",
              "    <tr>\n",
              "      <th>11207632</th>\n",
              "      <td>1760</td>\n",
              "    </tr>\n",
              "    <tr>\n",
              "      <th>...</th>\n",
              "      <td>...</td>\n",
              "    </tr>\n",
              "    <tr>\n",
              "      <th>7105789</th>\n",
              "      <td>1</td>\n",
              "    </tr>\n",
              "    <tr>\n",
              "      <th>7105787</th>\n",
              "      <td>1</td>\n",
              "    </tr>\n",
              "    <tr>\n",
              "      <th>7105785</th>\n",
              "      <td>1</td>\n",
              "    </tr>\n",
              "    <tr>\n",
              "      <th>7105784</th>\n",
              "      <td>1</td>\n",
              "    </tr>\n",
              "    <tr>\n",
              "      <th>7660640</th>\n",
              "      <td>1</td>\n",
              "    </tr>\n",
              "  </tbody>\n",
              "</table>\n",
              "<p>12867980 rows × 1 columns</p>\n",
              "</div><br><label><b>dtype:</b> int64</label>"
            ]
          },
          "metadata": {},
          "execution_count": 5
        }
      ],
      "source": [
        "df[\"release_id\"].value_counts()"
      ]
    },
    {
      "cell_type": "code",
      "execution_count": null,
      "metadata": {
        "colab": {
          "base_uri": "https://localhost:8080/",
          "height": 490
        },
        "id": "NtCIFKH5-heb",
        "outputId": "350ad74a-0c99-4c6e-8c7e-6cbc1f0220e5"
      },
      "outputs": [
        {
          "output_type": "execute_result",
          "data": {
            "text/plain": [
              "country\n",
              "US                                 7014807\n",
              "UK                                 3750271\n",
              "Germany                            2626630\n",
              "France                             1506822\n",
              "Japan                              1424084\n",
              "                                    ...   \n",
              "Chad                                     4\n",
              "Micronesia, Federated States of          4\n",
              "Gaza Strip                               2\n",
              "Antarctica                               2\n",
              "Nauru                                    1\n",
              "Name: count, Length: 281, dtype: int64"
            ],
            "text/html": [
              "<div>\n",
              "<style scoped>\n",
              "    .dataframe tbody tr th:only-of-type {\n",
              "        vertical-align: middle;\n",
              "    }\n",
              "\n",
              "    .dataframe tbody tr th {\n",
              "        vertical-align: top;\n",
              "    }\n",
              "\n",
              "    .dataframe thead th {\n",
              "        text-align: right;\n",
              "    }\n",
              "</style>\n",
              "<table border=\"1\" class=\"dataframe\">\n",
              "  <thead>\n",
              "    <tr style=\"text-align: right;\">\n",
              "      <th></th>\n",
              "      <th>count</th>\n",
              "    </tr>\n",
              "    <tr>\n",
              "      <th>country</th>\n",
              "      <th></th>\n",
              "    </tr>\n",
              "  </thead>\n",
              "  <tbody>\n",
              "    <tr>\n",
              "      <th>US</th>\n",
              "      <td>7014807</td>\n",
              "    </tr>\n",
              "    <tr>\n",
              "      <th>UK</th>\n",
              "      <td>3750271</td>\n",
              "    </tr>\n",
              "    <tr>\n",
              "      <th>Germany</th>\n",
              "      <td>2626630</td>\n",
              "    </tr>\n",
              "    <tr>\n",
              "      <th>France</th>\n",
              "      <td>1506822</td>\n",
              "    </tr>\n",
              "    <tr>\n",
              "      <th>Japan</th>\n",
              "      <td>1424084</td>\n",
              "    </tr>\n",
              "    <tr>\n",
              "      <th>...</th>\n",
              "      <td>...</td>\n",
              "    </tr>\n",
              "    <tr>\n",
              "      <th>Chad</th>\n",
              "      <td>4</td>\n",
              "    </tr>\n",
              "    <tr>\n",
              "      <th>Micronesia, Federated States of</th>\n",
              "      <td>4</td>\n",
              "    </tr>\n",
              "    <tr>\n",
              "      <th>Gaza Strip</th>\n",
              "      <td>2</td>\n",
              "    </tr>\n",
              "    <tr>\n",
              "      <th>Antarctica</th>\n",
              "      <td>2</td>\n",
              "    </tr>\n",
              "    <tr>\n",
              "      <th>Nauru</th>\n",
              "      <td>1</td>\n",
              "    </tr>\n",
              "  </tbody>\n",
              "</table>\n",
              "<p>281 rows × 1 columns</p>\n",
              "</div><br><label><b>dtype:</b> int64</label>"
            ]
          },
          "metadata": {},
          "execution_count": 6
        }
      ],
      "source": [
        "df[\"country\"].value_counts()"
      ]
    },
    {
      "cell_type": "code",
      "execution_count": null,
      "metadata": {
        "colab": {
          "base_uri": "https://localhost:8080/",
          "height": 490
        },
        "id": "eyDVvDLi-lfD",
        "outputId": "219ec3f6-5a3f-40f8-c275-8fc3f14d974a"
      },
      "outputs": [
        {
          "output_type": "execute_result",
          "data": {
            "text/plain": [
              "year\n",
              "2016.0    827806\n",
              "2012.0    814333\n",
              "2017.0    805624\n",
              "2015.0    805219\n",
              "2013.0    801459\n",
              "           ...  \n",
              "2021.0         4\n",
              "1889.0         2\n",
              "1860.0         1\n",
              "1894.0         1\n",
              "1893.0         1\n",
              "Name: count, Length: 132, dtype: int64"
            ],
            "text/html": [
              "<div>\n",
              "<style scoped>\n",
              "    .dataframe tbody tr th:only-of-type {\n",
              "        vertical-align: middle;\n",
              "    }\n",
              "\n",
              "    .dataframe tbody tr th {\n",
              "        vertical-align: top;\n",
              "    }\n",
              "\n",
              "    .dataframe thead th {\n",
              "        text-align: right;\n",
              "    }\n",
              "</style>\n",
              "<table border=\"1\" class=\"dataframe\">\n",
              "  <thead>\n",
              "    <tr style=\"text-align: right;\">\n",
              "      <th></th>\n",
              "      <th>count</th>\n",
              "    </tr>\n",
              "    <tr>\n",
              "      <th>year</th>\n",
              "      <th></th>\n",
              "    </tr>\n",
              "  </thead>\n",
              "  <tbody>\n",
              "    <tr>\n",
              "      <th>2016.0</th>\n",
              "      <td>827806</td>\n",
              "    </tr>\n",
              "    <tr>\n",
              "      <th>2012.0</th>\n",
              "      <td>814333</td>\n",
              "    </tr>\n",
              "    <tr>\n",
              "      <th>2017.0</th>\n",
              "      <td>805624</td>\n",
              "    </tr>\n",
              "    <tr>\n",
              "      <th>2015.0</th>\n",
              "      <td>805219</td>\n",
              "    </tr>\n",
              "    <tr>\n",
              "      <th>2013.0</th>\n",
              "      <td>801459</td>\n",
              "    </tr>\n",
              "    <tr>\n",
              "      <th>...</th>\n",
              "      <td>...</td>\n",
              "    </tr>\n",
              "    <tr>\n",
              "      <th>2021.0</th>\n",
              "      <td>4</td>\n",
              "    </tr>\n",
              "    <tr>\n",
              "      <th>1889.0</th>\n",
              "      <td>2</td>\n",
              "    </tr>\n",
              "    <tr>\n",
              "      <th>1860.0</th>\n",
              "      <td>1</td>\n",
              "    </tr>\n",
              "    <tr>\n",
              "      <th>1894.0</th>\n",
              "      <td>1</td>\n",
              "    </tr>\n",
              "    <tr>\n",
              "      <th>1893.0</th>\n",
              "      <td>1</td>\n",
              "    </tr>\n",
              "  </tbody>\n",
              "</table>\n",
              "<p>132 rows × 1 columns</p>\n",
              "</div><br><label><b>dtype:</b> int64</label>"
            ]
          },
          "metadata": {},
          "execution_count": 7
        }
      ],
      "source": [
        "df[\"year\"].value_counts()"
      ]
    },
    {
      "cell_type": "code",
      "execution_count": null,
      "metadata": {
        "id": "YlTjyk4MRqiq"
      },
      "outputs": [],
      "source": [
        "\n",
        "\n",
        "# 1. Extract the year part (if necessary)\n",
        "df['year'] = df['year'].astype(str).str.extract(r'(\\d{4})')  # Extract 4 digits\n",
        "\n",
        "# 2. Convert to integer\n",
        "df['year'] = pd.to_numeric(df['year'], errors='coerce').astype('Int64')  # Convert to nullable integer\n",
        "\n",
        "# 3. Remove rows with invalid years (optional)\n",
        "df = df[df['year'].notna()]"
      ]
    },
    {
      "cell_type": "code",
      "execution_count": null,
      "metadata": {
        "colab": {
          "base_uri": "https://localhost:8080/",
          "height": 490
        },
        "id": "eWFIaVAoSdHy",
        "outputId": "20e6c1cd-9554-4f4f-b1d7-4664a7798fd6"
      },
      "outputs": [
        {
          "output_type": "execute_result",
          "data": {
            "text/plain": [
              "year\n",
              "2016    827806\n",
              "2012    814333\n",
              "2017    805624\n",
              "2015    805219\n",
              "2013    801459\n",
              "         ...  \n",
              "2021         4\n",
              "1889         2\n",
              "1860         1\n",
              "1894         1\n",
              "1893         1\n",
              "Name: count, Length: 132, dtype: Int64"
            ],
            "text/html": [
              "<div>\n",
              "<style scoped>\n",
              "    .dataframe tbody tr th:only-of-type {\n",
              "        vertical-align: middle;\n",
              "    }\n",
              "\n",
              "    .dataframe tbody tr th {\n",
              "        vertical-align: top;\n",
              "    }\n",
              "\n",
              "    .dataframe thead th {\n",
              "        text-align: right;\n",
              "    }\n",
              "</style>\n",
              "<table border=\"1\" class=\"dataframe\">\n",
              "  <thead>\n",
              "    <tr style=\"text-align: right;\">\n",
              "      <th></th>\n",
              "      <th>count</th>\n",
              "    </tr>\n",
              "    <tr>\n",
              "      <th>year</th>\n",
              "      <th></th>\n",
              "    </tr>\n",
              "  </thead>\n",
              "  <tbody>\n",
              "    <tr>\n",
              "      <th>2016</th>\n",
              "      <td>827806</td>\n",
              "    </tr>\n",
              "    <tr>\n",
              "      <th>2012</th>\n",
              "      <td>814333</td>\n",
              "    </tr>\n",
              "    <tr>\n",
              "      <th>2017</th>\n",
              "      <td>805624</td>\n",
              "    </tr>\n",
              "    <tr>\n",
              "      <th>2015</th>\n",
              "      <td>805219</td>\n",
              "    </tr>\n",
              "    <tr>\n",
              "      <th>2013</th>\n",
              "      <td>801459</td>\n",
              "    </tr>\n",
              "    <tr>\n",
              "      <th>...</th>\n",
              "      <td>...</td>\n",
              "    </tr>\n",
              "    <tr>\n",
              "      <th>2021</th>\n",
              "      <td>4</td>\n",
              "    </tr>\n",
              "    <tr>\n",
              "      <th>1889</th>\n",
              "      <td>2</td>\n",
              "    </tr>\n",
              "    <tr>\n",
              "      <th>1860</th>\n",
              "      <td>1</td>\n",
              "    </tr>\n",
              "    <tr>\n",
              "      <th>1894</th>\n",
              "      <td>1</td>\n",
              "    </tr>\n",
              "    <tr>\n",
              "      <th>1893</th>\n",
              "      <td>1</td>\n",
              "    </tr>\n",
              "  </tbody>\n",
              "</table>\n",
              "<p>132 rows × 1 columns</p>\n",
              "</div><br><label><b>dtype:</b> Int64</label>"
            ]
          },
          "metadata": {},
          "execution_count": 9
        }
      ],
      "source": [
        "df[\"year\"].value_counts()"
      ]
    },
    {
      "cell_type": "code",
      "execution_count": null,
      "metadata": {
        "colab": {
          "base_uri": "https://localhost:8080/",
          "height": 586
        },
        "id": "Gc_chK1B-r71",
        "outputId": "d412c419-1c0d-4a16-8e11-37758f6495b4"
      },
      "outputs": [
        {
          "output_type": "execute_result",
          "data": {
            "text/plain": [
              "genre\n",
              "Rock                      7344232\n",
              "Electronic                7030233\n",
              "Pop                       3733918\n",
              "Folk, World, & Country    1814196\n",
              "Jazz                      1589487\n",
              "Funk / Soul               1577892\n",
              "Hip Hop                   1121093\n",
              "Classical                  823871\n",
              "Latin                      717698\n",
              "Stage & Screen             662881\n",
              "Reggae                     456238\n",
              "Blues                      448172\n",
              "Non-Music                  430605\n",
              "Children's                 115775\n",
              "Brass & Military            50155\n",
              "Name: count, dtype: int64"
            ],
            "text/html": [
              "<div>\n",
              "<style scoped>\n",
              "    .dataframe tbody tr th:only-of-type {\n",
              "        vertical-align: middle;\n",
              "    }\n",
              "\n",
              "    .dataframe tbody tr th {\n",
              "        vertical-align: top;\n",
              "    }\n",
              "\n",
              "    .dataframe thead th {\n",
              "        text-align: right;\n",
              "    }\n",
              "</style>\n",
              "<table border=\"1\" class=\"dataframe\">\n",
              "  <thead>\n",
              "    <tr style=\"text-align: right;\">\n",
              "      <th></th>\n",
              "      <th>count</th>\n",
              "    </tr>\n",
              "    <tr>\n",
              "      <th>genre</th>\n",
              "      <th></th>\n",
              "    </tr>\n",
              "  </thead>\n",
              "  <tbody>\n",
              "    <tr>\n",
              "      <th>Rock</th>\n",
              "      <td>7344232</td>\n",
              "    </tr>\n",
              "    <tr>\n",
              "      <th>Electronic</th>\n",
              "      <td>7030233</td>\n",
              "    </tr>\n",
              "    <tr>\n",
              "      <th>Pop</th>\n",
              "      <td>3733918</td>\n",
              "    </tr>\n",
              "    <tr>\n",
              "      <th>Folk, World, &amp; Country</th>\n",
              "      <td>1814196</td>\n",
              "    </tr>\n",
              "    <tr>\n",
              "      <th>Jazz</th>\n",
              "      <td>1589487</td>\n",
              "    </tr>\n",
              "    <tr>\n",
              "      <th>Funk / Soul</th>\n",
              "      <td>1577892</td>\n",
              "    </tr>\n",
              "    <tr>\n",
              "      <th>Hip Hop</th>\n",
              "      <td>1121093</td>\n",
              "    </tr>\n",
              "    <tr>\n",
              "      <th>Classical</th>\n",
              "      <td>823871</td>\n",
              "    </tr>\n",
              "    <tr>\n",
              "      <th>Latin</th>\n",
              "      <td>717698</td>\n",
              "    </tr>\n",
              "    <tr>\n",
              "      <th>Stage &amp; Screen</th>\n",
              "      <td>662881</td>\n",
              "    </tr>\n",
              "    <tr>\n",
              "      <th>Reggae</th>\n",
              "      <td>456238</td>\n",
              "    </tr>\n",
              "    <tr>\n",
              "      <th>Blues</th>\n",
              "      <td>448172</td>\n",
              "    </tr>\n",
              "    <tr>\n",
              "      <th>Non-Music</th>\n",
              "      <td>430605</td>\n",
              "    </tr>\n",
              "    <tr>\n",
              "      <th>Children's</th>\n",
              "      <td>115775</td>\n",
              "    </tr>\n",
              "    <tr>\n",
              "      <th>Brass &amp; Military</th>\n",
              "      <td>50155</td>\n",
              "    </tr>\n",
              "  </tbody>\n",
              "</table>\n",
              "</div><br><label><b>dtype:</b> int64</label>"
            ]
          },
          "metadata": {},
          "execution_count": 10
        }
      ],
      "source": [
        "df[\"genre\"].value_counts()"
      ]
    },
    {
      "cell_type": "code",
      "execution_count": null,
      "metadata": {
        "colab": {
          "base_uri": "https://localhost:8080/",
          "height": 1000
        },
        "id": "Vbube_nV-xN9",
        "outputId": "c64fa9c1-4092-4655-d200-31e7a0fa8e3e"
      },
      "outputs": [
        {
          "output_type": "execute_result",
          "data": {
            "text/plain": [
              "format\n",
              "CD                    10699846\n",
              "Vinyl                 10651356\n",
              "File                   3171396\n",
              "Cassette               2110064\n",
              "DVD                     341762\n",
              "Shellac                 234792\n",
              "Box Set                 232879\n",
              "All Media               138300\n",
              "VHS                      66013\n",
              "8-Track Cartridge        47635\n",
              "Flexi-disc               39100\n",
              "DVDr                     28070\n",
              "Lathe Cut                25292\n",
              "SACD                     17891\n",
              "Blu-ray                  17299\n",
              "Reel-To-Reel             16875\n",
              "Acetate                  16691\n",
              "Laserdisc                11224\n",
              "Betacam SP               10519\n",
              "Memory Stick              9517\n",
              "Minidisc                  6739\n",
              "Hybrid                    3814\n",
              "Floppy Disk               3698\n",
              "Edison Disc               2348\n",
              "Cylinder                  1860\n",
              "Blu-ray-R                 1844\n",
              "4-Track Cartridge         1385\n",
              "CDV                       1361\n",
              "DCC                       1289\n",
              "Betamax                   1161\n",
              "U-matic                    886\n",
              "DAT                        692\n",
              "Pathé Disc                 551\n",
              "Microcassette              544\n",
              "HD DVD                     262\n",
              "SelectaVision              236\n",
              "UMD                        204\n",
              "PlayTape                   180\n",
              "VHD                        172\n",
              "MiniDV                     143\n",
              "Video8                     115\n",
              "Pocket Rocker               98\n",
              "NT Cassette                 53\n",
              "Tefifon                     52\n",
              "RCA Tape Cartridge          51\n",
              "MVD                         49\n",
              "Betacam                     47\n",
              "Video 2000                  42\n",
              "Elcaset                     21\n",
              "Film Reel                   13\n",
              "Wire Recording               5\n",
              "DualDisc                     4\n",
              "HD DVD-R                     4\n",
              "DC-International             2\n",
              "Cartrivision                 2\n",
              "Name: count, dtype: int64"
            ],
            "text/html": [
              "<div>\n",
              "<style scoped>\n",
              "    .dataframe tbody tr th:only-of-type {\n",
              "        vertical-align: middle;\n",
              "    }\n",
              "\n",
              "    .dataframe tbody tr th {\n",
              "        vertical-align: top;\n",
              "    }\n",
              "\n",
              "    .dataframe thead th {\n",
              "        text-align: right;\n",
              "    }\n",
              "</style>\n",
              "<table border=\"1\" class=\"dataframe\">\n",
              "  <thead>\n",
              "    <tr style=\"text-align: right;\">\n",
              "      <th></th>\n",
              "      <th>count</th>\n",
              "    </tr>\n",
              "    <tr>\n",
              "      <th>format</th>\n",
              "      <th></th>\n",
              "    </tr>\n",
              "  </thead>\n",
              "  <tbody>\n",
              "    <tr>\n",
              "      <th>CD</th>\n",
              "      <td>10699846</td>\n",
              "    </tr>\n",
              "    <tr>\n",
              "      <th>Vinyl</th>\n",
              "      <td>10651356</td>\n",
              "    </tr>\n",
              "    <tr>\n",
              "      <th>File</th>\n",
              "      <td>3171396</td>\n",
              "    </tr>\n",
              "    <tr>\n",
              "      <th>Cassette</th>\n",
              "      <td>2110064</td>\n",
              "    </tr>\n",
              "    <tr>\n",
              "      <th>DVD</th>\n",
              "      <td>341762</td>\n",
              "    </tr>\n",
              "    <tr>\n",
              "      <th>Shellac</th>\n",
              "      <td>234792</td>\n",
              "    </tr>\n",
              "    <tr>\n",
              "      <th>Box Set</th>\n",
              "      <td>232879</td>\n",
              "    </tr>\n",
              "    <tr>\n",
              "      <th>All Media</th>\n",
              "      <td>138300</td>\n",
              "    </tr>\n",
              "    <tr>\n",
              "      <th>VHS</th>\n",
              "      <td>66013</td>\n",
              "    </tr>\n",
              "    <tr>\n",
              "      <th>8-Track Cartridge</th>\n",
              "      <td>47635</td>\n",
              "    </tr>\n",
              "    <tr>\n",
              "      <th>Flexi-disc</th>\n",
              "      <td>39100</td>\n",
              "    </tr>\n",
              "    <tr>\n",
              "      <th>DVDr</th>\n",
              "      <td>28070</td>\n",
              "    </tr>\n",
              "    <tr>\n",
              "      <th>Lathe Cut</th>\n",
              "      <td>25292</td>\n",
              "    </tr>\n",
              "    <tr>\n",
              "      <th>SACD</th>\n",
              "      <td>17891</td>\n",
              "    </tr>\n",
              "    <tr>\n",
              "      <th>Blu-ray</th>\n",
              "      <td>17299</td>\n",
              "    </tr>\n",
              "    <tr>\n",
              "      <th>Reel-To-Reel</th>\n",
              "      <td>16875</td>\n",
              "    </tr>\n",
              "    <tr>\n",
              "      <th>Acetate</th>\n",
              "      <td>16691</td>\n",
              "    </tr>\n",
              "    <tr>\n",
              "      <th>Laserdisc</th>\n",
              "      <td>11224</td>\n",
              "    </tr>\n",
              "    <tr>\n",
              "      <th>Betacam SP</th>\n",
              "      <td>10519</td>\n",
              "    </tr>\n",
              "    <tr>\n",
              "      <th>Memory Stick</th>\n",
              "      <td>9517</td>\n",
              "    </tr>\n",
              "    <tr>\n",
              "      <th>Minidisc</th>\n",
              "      <td>6739</td>\n",
              "    </tr>\n",
              "    <tr>\n",
              "      <th>Hybrid</th>\n",
              "      <td>3814</td>\n",
              "    </tr>\n",
              "    <tr>\n",
              "      <th>Floppy Disk</th>\n",
              "      <td>3698</td>\n",
              "    </tr>\n",
              "    <tr>\n",
              "      <th>Edison Disc</th>\n",
              "      <td>2348</td>\n",
              "    </tr>\n",
              "    <tr>\n",
              "      <th>Cylinder</th>\n",
              "      <td>1860</td>\n",
              "    </tr>\n",
              "    <tr>\n",
              "      <th>Blu-ray-R</th>\n",
              "      <td>1844</td>\n",
              "    </tr>\n",
              "    <tr>\n",
              "      <th>4-Track Cartridge</th>\n",
              "      <td>1385</td>\n",
              "    </tr>\n",
              "    <tr>\n",
              "      <th>CDV</th>\n",
              "      <td>1361</td>\n",
              "    </tr>\n",
              "    <tr>\n",
              "      <th>DCC</th>\n",
              "      <td>1289</td>\n",
              "    </tr>\n",
              "    <tr>\n",
              "      <th>Betamax</th>\n",
              "      <td>1161</td>\n",
              "    </tr>\n",
              "    <tr>\n",
              "      <th>U-matic</th>\n",
              "      <td>886</td>\n",
              "    </tr>\n",
              "    <tr>\n",
              "      <th>DAT</th>\n",
              "      <td>692</td>\n",
              "    </tr>\n",
              "    <tr>\n",
              "      <th>Pathé Disc</th>\n",
              "      <td>551</td>\n",
              "    </tr>\n",
              "    <tr>\n",
              "      <th>Microcassette</th>\n",
              "      <td>544</td>\n",
              "    </tr>\n",
              "    <tr>\n",
              "      <th>HD DVD</th>\n",
              "      <td>262</td>\n",
              "    </tr>\n",
              "    <tr>\n",
              "      <th>SelectaVision</th>\n",
              "      <td>236</td>\n",
              "    </tr>\n",
              "    <tr>\n",
              "      <th>UMD</th>\n",
              "      <td>204</td>\n",
              "    </tr>\n",
              "    <tr>\n",
              "      <th>PlayTape</th>\n",
              "      <td>180</td>\n",
              "    </tr>\n",
              "    <tr>\n",
              "      <th>VHD</th>\n",
              "      <td>172</td>\n",
              "    </tr>\n",
              "    <tr>\n",
              "      <th>MiniDV</th>\n",
              "      <td>143</td>\n",
              "    </tr>\n",
              "    <tr>\n",
              "      <th>Video8</th>\n",
              "      <td>115</td>\n",
              "    </tr>\n",
              "    <tr>\n",
              "      <th>Pocket Rocker</th>\n",
              "      <td>98</td>\n",
              "    </tr>\n",
              "    <tr>\n",
              "      <th>NT Cassette</th>\n",
              "      <td>53</td>\n",
              "    </tr>\n",
              "    <tr>\n",
              "      <th>Tefifon</th>\n",
              "      <td>52</td>\n",
              "    </tr>\n",
              "    <tr>\n",
              "      <th>RCA Tape Cartridge</th>\n",
              "      <td>51</td>\n",
              "    </tr>\n",
              "    <tr>\n",
              "      <th>MVD</th>\n",
              "      <td>49</td>\n",
              "    </tr>\n",
              "    <tr>\n",
              "      <th>Betacam</th>\n",
              "      <td>47</td>\n",
              "    </tr>\n",
              "    <tr>\n",
              "      <th>Video 2000</th>\n",
              "      <td>42</td>\n",
              "    </tr>\n",
              "    <tr>\n",
              "      <th>Elcaset</th>\n",
              "      <td>21</td>\n",
              "    </tr>\n",
              "    <tr>\n",
              "      <th>Film Reel</th>\n",
              "      <td>13</td>\n",
              "    </tr>\n",
              "    <tr>\n",
              "      <th>Wire Recording</th>\n",
              "      <td>5</td>\n",
              "    </tr>\n",
              "    <tr>\n",
              "      <th>DualDisc</th>\n",
              "      <td>4</td>\n",
              "    </tr>\n",
              "    <tr>\n",
              "      <th>HD DVD-R</th>\n",
              "      <td>4</td>\n",
              "    </tr>\n",
              "    <tr>\n",
              "      <th>DC-International</th>\n",
              "      <td>2</td>\n",
              "    </tr>\n",
              "    <tr>\n",
              "      <th>Cartrivision</th>\n",
              "      <td>2</td>\n",
              "    </tr>\n",
              "  </tbody>\n",
              "</table>\n",
              "</div><br><label><b>dtype:</b> int64</label>"
            ]
          },
          "metadata": {},
          "execution_count": 11
        }
      ],
      "source": [
        "df[\"format\"].value_counts()"
      ]
    },
    {
      "cell_type": "code",
      "execution_count": null,
      "metadata": {
        "id": "8VbLf_mX-95m"
      },
      "outputs": [],
      "source": [
        "# Create data frames for vinyl and CD. The time period is set in between 2000 and 2019.\n",
        "data_v=df[(df['format']=='Vinyl')&((df['year']>=2000.0)&(df['year']<2020.0))]\n",
        "data_c=df[(df['format']=='CD')&((df['year']>=2000.0)&(df['year']<2020.0))]"
      ]
    },
    {
      "cell_type": "code",
      "execution_count": null,
      "metadata": {
        "colab": {
          "base_uri": "https://localhost:8080/"
        },
        "id": "dhcxVUCc_V_a",
        "outputId": "d07502bd-ba36-44f6-959e-d68daf5d2e0a"
      },
      "outputs": [
        {
          "output_type": "stream",
          "name": "stdout",
          "text": [
            "    release_id country  year       genre              style format\n",
            "15           9      US  2000  Electronic              House  Vinyl\n",
            "16           9      US  2000  Electronic         Deep House  Vinyl\n",
            "23          15      US  2000  Electronic              House  Vinyl\n",
            "24          15      US  2000  Electronic         Deep House  Vinyl\n",
            "25          16      US  2000  Electronic             Techno  Vinyl\n",
            "26          16      US  2000  Electronic         Tech House  Vinyl\n",
            "30          18      US  2000  Electronic             Techno  Vinyl\n",
            "31          18      US  2000  Electronic         Tech House  Vinyl\n",
            "32          19  Canada  2000  Electronic  Progressive House  Vinyl\n",
            "33          19  Canada  2000  Electronic              House  Vinyl\n"
          ]
        }
      ],
      "source": [
        "# duplicates data vinyls\n",
        "duplicates=data_v.duplicated(subset=['release_id'], keep=False)\n",
        "print(data_v[duplicates].sort_values(by='release_id').head(10))"
      ]
    },
    {
      "cell_type": "code",
      "execution_count": null,
      "metadata": {
        "colab": {
          "base_uri": "https://localhost:8080/"
        },
        "id": "S3V6P8_4_hbi",
        "outputId": "7d25eded-9aad-455e-8312-df05239daf7e"
      },
      "outputs": [
        {
          "output_type": "stream",
          "name": "stdout",
          "text": [
            "    release_id country  year       genre              style format\n",
            "13           7      US  2000  Electronic         Deep House  Vinyl\n",
            "14           8      US  2000  Electronic         Deep House  Vinyl\n",
            "15           9      US  2000  Electronic              House  Vinyl\n",
            "20          13      US  2000  Electronic         Deep House  Vinyl\n",
            "23          15      US  2000  Electronic              House  Vinyl\n",
            "25          16      US  2000  Electronic             Techno  Vinyl\n",
            "30          18      US  2000  Electronic             Techno  Vinyl\n",
            "32          19  Canada  2000  Electronic  Progressive House  Vinyl\n",
            "35          20      US  2000  Electronic         Tech House  Vinyl\n",
            "36          21      UK  2000  Electronic        Deep Techno  Vinyl\n"
          ]
        }
      ],
      "source": [
        "# remove duplicates data fro vinyls\n",
        "data_v_dedu=data_v.drop_duplicates(subset=['release_id'], keep='first')\n",
        "print(data_v_dedu.head(10))"
      ]
    },
    {
      "cell_type": "code",
      "execution_count": null,
      "metadata": {
        "colab": {
          "base_uri": "https://localhost:8080/"
        },
        "id": "FOGUEdei_9au",
        "outputId": "9db321ec-518c-4727-8c9b-060ed6fdf841"
      },
      "outputs": [
        {
          "output_type": "stream",
          "name": "stdout",
          "text": [
            "     release_id country  year       genre         style format\n",
            "83           56      US  2000  Electronic         House     CD\n",
            "84           56      US  2000  Electronic  Garage House     CD\n",
            "452         284      US  2000  Electronic         House     CD\n",
            "453         284      US  2000  Electronic        Techno     CD\n",
            "454         284      US  2000  Electronic     Downtempo     CD\n",
            "492         297      UK  2000  Electronic      Abstract     CD\n",
            "493         297      UK  2000  Electronic           IDM     CD\n",
            "494         297      UK  2000  Electronic       Ambient     CD\n",
            "519         313      US  2000  Electronic        Techno     CD\n",
            "520         313      US  2000  Electronic       Electro     CD\n"
          ]
        }
      ],
      "source": [
        "# duplicates data CD\n",
        "duplicates=data_c.duplicated(subset=['release_id'], keep=False)\n",
        "print(data_c[duplicates].sort_values(by='release_id').head(10))"
      ]
    },
    {
      "cell_type": "code",
      "execution_count": null,
      "metadata": {
        "colab": {
          "base_uri": "https://localhost:8080/"
        },
        "id": "YuDb9sztAPFg",
        "outputId": "b417474f-bfea-420b-83d0-5f80f049de05"
      },
      "outputs": [
        {
          "output_type": "stream",
          "name": "stdout",
          "text": [
            "     release_id  country  year       genre      style format\n",
            "57           36       US  2000  Electronic     Trance     CD\n",
            "83           56       US  2000  Electronic      House     CD\n",
            "452         284       US  2000  Electronic      House     CD\n",
            "474         293       UK  2000  Electronic  Leftfield     CD\n",
            "492         297       UK  2000  Electronic   Abstract     CD\n",
            "519         313       US  2000  Electronic     Techno     CD\n",
            "521         314  Germany  2000  Electronic   Abstract     CD\n",
            "524         315  Belgium  2000  Electronic   Abstract     CD\n",
            "551         324       UK  2000  Electronic   Abstract     CD\n",
            "554         325       UK  2000  Electronic  Leftfield     CD\n"
          ]
        }
      ],
      "source": [
        "# remove duplicates data for CD\n",
        "data_c_dedu=data_c.drop_duplicates(subset=['release_id'], keep='first')\n",
        "print(data_c_dedu.head(10))"
      ]
    },
    {
      "cell_type": "code",
      "execution_count": null,
      "metadata": {
        "colab": {
          "base_uri": "https://localhost:8080/",
          "height": 652
        },
        "id": "02lkIlavAVFw",
        "outputId": "e85d02c9-5e1a-494d-97a9-17cd66b99daa"
      },
      "outputs": [
        {
          "output_type": "stream",
          "name": "stdout",
          "text": [
            "release_id        0\n",
            "country       21378\n",
            "year              0\n",
            "genre             0\n",
            "style         99051\n",
            "format            0\n",
            "dtype: int64\n"
          ]
        },
        {
          "output_type": "display_data",
          "data": {
            "text/plain": [
              "<Figure size 2500x1000 with 2 Axes>"
            ],
            "image/png": "[encoded data removed]"
          },
          "metadata": {}
        }
      ],
      "source": [
        "# investigate if there is a missing value in the format column of the vinyl collections (It seems good)\n",
        "print(data_v_dedu.isna().sum())\n",
        "msno.matrix(data_v_dedu)\n",
        "plt.show()"
      ]
    },
    {
      "cell_type": "code",
      "execution_count": null,
      "metadata": {
        "colab": {
          "base_uri": "https://localhost:8080/",
          "height": 652
        },
        "id": "cRVbYlIID5ZC",
        "outputId": "6a081225-f1c9-4aa5-e9f9-8ce634ff0a95"
      },
      "outputs": [
        {
          "output_type": "stream",
          "name": "stdout",
          "text": [
            "release_id         0\n",
            "country        43555\n",
            "year               0\n",
            "genre              0\n",
            "style         475186\n",
            "format             0\n",
            "dtype: int64\n"
          ]
        },
        {
          "output_type": "display_data",
          "data": {
            "text/plain": [
              "<Figure size 2500x1000 with 2 Axes>"
            ],
            "image/png": "[encoded data removed]"
          },
          "metadata": {}
        }
      ],
      "source": [
        "print(data_c_dedu.isna().sum())\n",
        "msno.matrix(data_c_dedu)\n",
        "plt.show()"
      ]
    },
    {
      "cell_type": "code",
      "execution_count": null,
      "metadata": {
        "id": "YWzbrZxCB1Wz"
      },
      "outputs": [],
      "source": [
        "# Combining data frame for vinyls and CD and collext the required info.\n",
        "data_v_sorted=data_v_dedu[['year', 'format']].groupby(by='year').count()\n",
        "data_v_sorted.columns=['vinyl']\n",
        "data_v_sorted=data_v_sorted.reset_index()\n",
        "data_c_sorted=data_c_dedu[['year', 'format']].groupby(by='year').count()\n",
        "data_c_sorted.columns=['CD']\n",
        "data_c_sorted=data_c_sorted.reset_index()"
      ]
    },
    {
      "cell_type": "code",
      "execution_count": null,
      "metadata": {
        "colab": {
          "base_uri": "https://localhost:8080/"
        },
        "id": "hNHy_8doCEZ7",
        "outputId": "4762bc90-79f0-496b-e801-1f95264e1b14"
      },
      "outputs": [
        {
          "output_type": "stream",
          "name": "stdout",
          "text": [
            "    year  vinyl      CD\n",
            "0   2000  53970  148730\n",
            "1   2001  56417  152220\n",
            "2   2002  54920  154569\n",
            "3   2003  53890  158510\n",
            "4   2004  52868  160395\n",
            "5   2005  50617  165640\n",
            "6   2006  47845  168719\n",
            "7   2007  45816  165118\n",
            "8   2008  43600  157706\n",
            "9   2009  43002  145387\n",
            "10  2010  43360  133979\n",
            "11  2011  46286  127099\n",
            "12  2012  52312  123323\n",
            "13  2013  58630  117669\n",
            "14  2014  62614  112915\n",
            "15  2015  63657  105032\n",
            "16  2016  69196  100017\n",
            "17  2017  72601   93325\n",
            "18  2018  76070   78914\n",
            "19  2019  76406   63316\n"
          ]
        }
      ],
      "source": [
        "data_v_c=pd.merge(data_v_sorted, data_c_sorted, how='inner')\n",
        "data_v_c['year']=data_v_c['year'].astype('int')\n",
        "print(data_v_c)"
      ]
    },
    {
      "cell_type": "markdown",
      "metadata": {
        "id": "ynEd4lyHgCkZ"
      },
      "source": [
        "## 👷 Data preparation or Feature Engineering"
      ]
    },
    {
      "cell_type": "markdown",
      "metadata": {
        "id": "ENUXevYbEaaZ"
      },
      "source": [
        "### Plot the data to see the released vinyl and CD were changing\n",
        "\n",
        "---\n",
        "\n",
        "\\in time from 2000 to 2019.\n"
      ]
    },
    {
      "cell_type": "code",
      "execution_count": null,
      "metadata": {
        "colab": {
          "base_uri": "https://localhost:8080/",
          "height": 492
        },
        "id": "AbURs7kLgCkZ",
        "outputId": "e1611f34-ce49-40e7-dbb1-48da949bb179"
      },
      "outputs": [
        {
          "output_type": "display_data",
          "data": {
            "text/plain": [
              "<Figure size 640x480 with 1 Axes>"
            ],
            "image/png": "[encoded data removed]"
          },
          "metadata": {}
        }
      ],
      "source": [
        "data_v_c.rename(columns={'cassette': 'CD'}, inplace=True)\n",
        "\n",
        "sns.set_style('dark')\n",
        "g1 = sns.regplot(data=data_v_c, x='year', y='vinyl', order=2, ci=95, label='Vinyl', color='black')\n",
        "g2 = sns.regplot(data=data_v_c, x='year', y='CD', order=2, ci=95, label='CD', color='red')  # Changed to 'CD'\n",
        "g1.set_title('Trend of vinyl and CD', y=1)  # Changed title\n",
        "g1.set(xlabel='Year', ylabel='Released Qty', xticks=list(range(2000, 2020)))\n",
        "plt.xticks(rotation=44)\n",
        "plt.legend()\n",
        "sns.set_context(\"paper\")\n",
        "plt.show()"
      ]
    },
    {
      "cell_type": "code",
      "execution_count": null,
      "metadata": {
        "colab": {
          "base_uri": "https://localhost:8080/"
        },
        "id": "b1l8F8GwgCkZ",
        "outputId": "198a5bd4-10b3-45a6-8f19-2a5231efb3e1"
      },
      "outputs": [
        {
          "output_type": "stream",
          "name": "stdout",
          "text": [
            "          vinyl        CD\n",
            "vinyl  1.000000 -0.839542\n",
            "CD    -0.839542  1.000000\n"
          ]
        }
      ],
      "source": [
        "# Correlation\n",
        "corr_v_c=data_v_c[['vinyl', 'CD']].corr()\n",
        "print(corr_v_c)"
      ]
    },
    {
      "cell_type": "markdown",
      "metadata": {
        "id": "ICrOfPn7KPI1"
      },
      "source": [
        "A negative correlation means that as one variable increases, the other tends to decrease. In other words, there's an inverse relationship between the variables."
      ]
    },
    {
      "cell_type": "markdown",
      "metadata": {
        "id": "amjzluo_KWV2"
      },
      "source": [
        "### In order to forecast by polynomial regression, here adds a column for the sqare of years. Then, plot the regression line to know how many vinyl and CD may be released in the next 5 years."
      ]
    },
    {
      "cell_type": "code",
      "execution_count": null,
      "metadata": {
        "colab": {
          "base_uri": "https://localhost:8080/"
        },
        "id": "4kEYUgFG39Ui",
        "outputId": "f3842695-3c4a-40de-d981-2c23206e9b59"
      },
      "outputs": [
        {
          "output_type": "stream",
          "name": "stdout",
          "text": [
            "Intercept    9.857560e+08\n",
            "year        -9.822266e+05\n",
            "year2        2.446891e+02\n",
            "dtype: float64\n",
            "Intercept   -1.632259e+09\n",
            "year         1.629425e+06\n",
            "year2       -4.066092e+02\n",
            "dtype: float64\n"
          ]
        }
      ],
      "source": [
        "data_v_c['year2']=data_v_c['year']**2\n",
        "outcome_v=smf.ols('vinyl ~ year + year2', data=data_v_c).fit()\n",
        "outcome_c=smf.ols('CD ~ year + year2', data=data_v_c).fit()\n",
        "print(outcome_v.params)\n",
        "print(outcome_c.params)"
      ]
    },
    {
      "cell_type": "code",
      "execution_count": null,
      "metadata": {
        "colab": {
          "base_uri": "https://localhost:8080/",
          "height": 449
        },
        "id": "o6pFkkZ339Mg",
        "outputId": "6ddcfd3b-aa82-4665-8bf0-defe18b6aa8d"
      },
      "outputs": [
        {
          "output_type": "display_data",
          "data": {
            "text/plain": [
              "<Figure size 640x480 with 1 Axes>"
            ],
            "image/png": "[encoded data removed]"
          },
          "metadata": {}
        }
      ],
      "source": [
        "df1=pd.DataFrame()\n",
        "df1['year']=np.linspace(2000, 2025)\n",
        "df1['year2']=df1['year']**2\n",
        "predict_v=outcome_v.predict(df1)\n",
        "plt.plot(df1['year'], predict_v, label='Vinyl Prediction', linestyle='--', color='black')\n",
        "plt.plot(data_v_c['year'], data_v_c['vinyl'], 'o', alpha=1, label='Vinyl', color='black')\n",
        "df2=pd.DataFrame()\n",
        "df2['year']=np.linspace(2000, 2025)\n",
        "df2['year2']=df2['year']**2\n",
        "predict_c=outcome_c.predict(df2)\n",
        "plt.plot(df2['year'], predict_c, label='CD Prediction', linestyle='--', color='red')\n",
        "plt.plot(data_v_c['year'], data_v_c['CD'], 'o', alpha=1, label='CD', color='red')\n",
        "plt.xlabel('Year')\n",
        "plt.ylabel('Released Qty')\n",
        "plt.legend()\n",
        "plt.show()"
      ]
    },
    {
      "cell_type": "code",
      "source": [
        "corr_v_c = data_v_c[['vinyl', 'CD']].corr()\n",
        "print(corr_v_c)"
      ],
      "metadata": {
        "colab": {
          "base_uri": "https://localhost:8080/"
        },
        "id": "cbeRM5yJa6GL",
        "outputId": "81f94cb6-0c64-40b3-aa6d-21c9733528a2"
      },
      "execution_count": null,
      "outputs": [
        {
          "output_type": "stream",
          "name": "stdout",
          "text": [
            "          vinyl        CD\n",
            "vinyl  1.000000 -0.839542\n",
            "CD    -0.839542  1.000000\n"
          ]
        }
      ]
    },
    {
      "cell_type": "markdown",
      "metadata": {
        "id": "JuSkbb-QgCkZ"
      },
      "source": [
        "## 📊 Analysis of Results and Conclusions\n",
        "\n",
        "The number of records for vinyls are increasing, although the number of CDs are decreasing.\n",
        "there's an inverse relationship between the variables vinyls and CDs.\n",
        "\n",
        "Vinyls is increasing the quantities released exponential.\n",
        "\n",
        "CDs are not expecting to be selling anymore. People are preferring vinyls collectionist or media than CDs.\n",
        "\n",
        "\n"
      ]
    },
    {
      "cell_type": "code",
      "execution_count": null,
      "metadata": {
        "id": "IiHg32JogCkZ"
      },
      "outputs": [],
      "source": []
    },
    {
      "cell_type": "markdown",
      "metadata": {
        "id": "CaPCgjFPgCka"
      },
      "source": [
        "## 💡 Proposals and Ideas\n",
        "\n",
        "Type of styles for vinyls and CD per year.\n",
        "\n",
        "Analisys vinyls & media files.\n"
      ]
    },
    {
      "cell_type": "code",
      "execution_count": null,
      "metadata": {
        "id": "AfN767CwgCka"
      },
      "outputs": [],
      "source": []
    },
    {
      "cell_type": "markdown",
      "metadata": {
        "id": "rT7ejFmqgCka"
      },
      "source": [
        "## 📖 References"
      ]
    },
    {
      "cell_type": "markdown",
      "metadata": {
        "id": "Mj_ip7LzMVZF"
      },
      "source": [
        "Discogs dataset Kaggle\n",
        "\n",
        "Hands-On Machine Learning with Scikit-Learn, Keras & Tensor Flow (O'Reilly)\n",
        "\n",
        "Practical Statistics for Data Scientist (O'Reilly)\n",
        "\n",
        "Data Science Bootcamp Lessons (City of London)"
      ]
    }
  ],
  "metadata": {
    "colab": {
      "provenance": [],
      "include_colab_link": true
    },
    "kernelspec": {
      "display_name": "Python 3 (ipykernel)",
      "language": "python",
      "name": "python3"
    },
    "language_info": {
      "codemirror_mode": {
        "name": "ipython",
        "version": 3
      },
      "file_extension": ".py",
      "mimetype": "text/x-python",
      "name": "python",
      "nbconvert_exporter": "python",
      "pygments_lexer": "ipython3",
      "version": "3.9.0"
    }
  },
  "nbformat": 4,
  "nbformat_minor": 0
}